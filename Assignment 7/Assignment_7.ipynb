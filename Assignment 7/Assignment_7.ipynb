{
  "nbformat": 4,
  "nbformat_minor": 0,
  "metadata": {
    "colab": {
      "name": "Assignment 7.ipynb",
      "provenance": [],
      "collapsed_sections": []
    },
    "kernelspec": {
      "name": "python3",
      "display_name": "Python 3"
    },
    "language_info": {
      "name": "python"
    }
  },
  "cells": [
    {
      "cell_type": "markdown",
      "source": [
        "# **Task - 1**\n",
        "Given the following classes, write the code for the **BBA_Student** class so that the following output is printed:\n",
        "\n",
        "---\n",
        "\n",
        "*Output:*\n",
        "\n",
        "Name: default Department: BBA\\\n",
        "Name: Humpty Dumpty Department: BBA\\\n",
        "Name: Little Bo Peep Department: BBA"
      ],
      "metadata": {
        "id": "rf87JrWOv3Gt"
      }
    },
    {
      "cell_type": "code",
      "execution_count": null,
      "metadata": {
        "colab": {
          "base_uri": "https://localhost:8080/"
        },
        "id": "-5R0CnJEbzQC",
        "outputId": "297c7566-e06b-470e-dcff-a79fe6b03dc9"
      },
      "outputs": [
        {
          "output_type": "stream",
          "name": "stdout",
          "text": [
            "Name: default Department: BBA\n",
            "Name: Humpty Dumpty Department: BBA\n",
            "Name: Little Bo Peep Department: BBA\n"
          ]
        }
      ],
      "source": [
        "# given class\n",
        "\n",
        "class Student:\n",
        "    def __init__(self, name='Just a student', dept='nothing'):\n",
        "        self.__name = name\n",
        "        self.__department = dept\n",
        "    def set_department(self, dept):\n",
        "        self.__department = dept\n",
        "    def get_name(self):\n",
        "        return self.__name\n",
        "    def set_name(self,name):\n",
        "        self.__name = name\n",
        "    def __str__(self):\n",
        "        return 'Name: '+self.__name+' Department: '+self.__department\n",
        "\n",
        "\n",
        "# create class\n",
        "\n",
        "class BBA_Student(Student):\n",
        "    \n",
        "    def __init__(self, name = 'default', dept = 'BBA'):\n",
        "        super().__init__(name, dept)\n",
        "\n",
        "\n",
        "# given tester code\n",
        "\n",
        "print(BBA_Student())\n",
        "print(BBA_Student('Humpty Dumpty'))\n",
        "print(BBA_Student('Little Bo Peep'))\n",
        "\n",
        "# end"
      ]
    },
    {
      "cell_type": "markdown",
      "source": [
        "# **Task - 2**\n",
        "*OUTPUT:*\n",
        "\n",
        "Part 1\\\n",
        "\\------\\\n",
        "(0 , 0)\\\n",
        "(0 , 1)\\\n",
        "(-1 , 1)\\\n",
        "(-1 , 0)\\\n",
        "(0 , 0)\\\n",
        "\\------\\\n",
        "Part 2\\\n",
        "\\------\\\n",
        "(0 , 0)\\\n",
        "(-1 , -1)\\\n",
        "False\\\n",
        "True\\\n",
        "\\------\n",
        "\n",
        "---\n",
        "\n",
        "A vehicle assumes that the whole world is a 2-dimensional graph paper. It maintains its x and y coordinates (both are integers). The vehicle gets manufactured (constructed) at (0, 0) coordinate.\n",
        "\n",
        "Subtasks:\n",
        "\n",
        "1. Design a **Vehicle2010** class which inherits movement methods from **Vehicle** and adds new methods called move **UpperRight**, **UpperLeft**, **LowerRight**, **LowerLeft**. Each of these diagonal move methods must re-use two inherited and appropriate move methods.\n",
        "2. Write an “**equals**” method which tests if significant class properties are the same (in this case x and y).\n",
        "\n",
        "**Note: All moves are 1 step. That means a single call to any move method changes\n",
        "value of either x or y or both by 1.**"
      ],
      "metadata": {
        "id": "yfsrxDoCwTH1"
      }
    },
    {
      "cell_type": "code",
      "source": [
        "# given class\n",
        "\n",
        "class Vehicle:\n",
        "    def __init__(self):\n",
        "        self.x = 0\n",
        "        self.y = 0\n",
        "    def moveUp(self):\n",
        "        self.y+=1\n",
        "    def moveDown(self):\n",
        "        self.y-=1\n",
        "    def moveRight(self):\n",
        "        self.x+=1\n",
        "    def moveLeft(self):\n",
        "        self.x-=1\n",
        "    def __str__(self):\n",
        "        return '('+str(self.x)+' , '+str(self.y)+')'\n",
        "\n",
        "\n",
        "# create class\n",
        "\n",
        "class Vehicle2010(Vehicle):\n",
        "    \n",
        "    def moveUpperRight(self):\n",
        "        self.moveUp()\n",
        "        self.moveRight()\n",
        "    \n",
        "    def moveUpperLeft(self):\n",
        "        self.moveUp()\n",
        "        self.moveLeft()\n",
        "    \n",
        "    def moveLowerRight(self):\n",
        "        self.moveDown()\n",
        "        self.moveRight()\n",
        "    \n",
        "    def moveLowerLeft(self):\n",
        "        self.moveDown()\n",
        "        self.moveLeft()\n",
        "    \n",
        "    def equals(self, other):\n",
        "        return self.x == other.x and self.y == other.y\n",
        "\n",
        "\n",
        "# given tester code\n",
        "\n",
        "print('Part 1')\n",
        "print('------')\n",
        "car = Vehicle()\n",
        "print(car)\n",
        "car.moveUp()\n",
        "print(car)\n",
        "car.moveLeft()\n",
        "print(car)\n",
        "car.moveDown()\n",
        "print(car)\n",
        "car.moveRight()\n",
        "print(car)\n",
        "print('------')\n",
        "print('Part 2')\n",
        "print('------')\n",
        "car1 = Vehicle2010()\n",
        "print(car1)\n",
        "car1.moveLowerLeft()\n",
        "print(car1)\n",
        "car2 = Vehicle2010()\n",
        "car2.moveLeft()\n",
        "print(car1.equals(car2))\n",
        "car2.moveDown()\n",
        "print(car1.equals(car2))\n",
        "\n",
        "# end"
      ],
      "metadata": {
        "colab": {
          "base_uri": "https://localhost:8080/"
        },
        "id": "D6PZw-LUcI5Y",
        "outputId": "c060d7ba-41a4-4604-e72b-ca91564d4be3"
      },
      "execution_count": null,
      "outputs": [
        {
          "output_type": "stream",
          "name": "stdout",
          "text": [
            "Part 1\n",
            "------\n",
            "(0 , 0)\n",
            "(0 , 1)\n",
            "(-1 , 1)\n",
            "(-1 , 0)\n",
            "(0 , 0)\n",
            "------\n",
            "Part 2\n",
            "------\n",
            "(0 , 0)\n",
            "(-1 , -1)\n",
            "False\n",
            "True\n"
          ]
        }
      ]
    },
    {
      "cell_type": "markdown",
      "source": [
        "# **Task - 3**\n",
        "Given the following classes, write the code for the **Cricket_Tournament** and the **Tennis_Tournment** class so that the following output is printed.\n",
        "\n",
        "---\n",
        "\n",
        "*OUTPUT:*\n",
        "\n",
        "Cricket Tournament Name: Default\\\n",
        "Number of Teams: 0\\\n",
        "Type: No type\\\n",
        "\\-----------------------\\\n",
        "Cricket Tournament Name: IPL\\\n",
        "Number of Teams: 10\\\n",
        "Type: t20\\\n",
        "\\-----------------------\\\n",
        "Tennis Tournament Name: Roland Garros\\\n",
        "Number of Players: 128"
      ],
      "metadata": {
        "id": "LKXDqoJ4wo-F"
      }
    },
    {
      "cell_type": "code",
      "source": [
        "# given class\n",
        "\n",
        "class Tournament:\n",
        "    def __init__(self,name='Default'):\n",
        "        self.__name = name\n",
        "    def set_name(self,name):\n",
        "        self.__name = name\n",
        "    def get_name(self):\n",
        "        return self.__name\n",
        "\n",
        "\n",
        "# create class\n",
        "\n",
        "class Cricket_Tournament(Tournament):\n",
        "\n",
        "    def __init__(self, name = 'Default', tour_teams = 0, tour_type = 'No type'):\n",
        "        super().__init__(name)\n",
        "        self.tour_teams = tour_teams\n",
        "        self.tour_type = tour_type\n",
        "\n",
        "    def detail(self):\n",
        "        temp = f'Cricket Tournament Name: {self.get_name()}'\n",
        "        temp += f'\\nNumber of Teams: {self.tour_teams}'\n",
        "        temp += f'\\nType: {self.tour_type}'\n",
        "        return temp\n",
        "\n",
        "\n",
        "class Tennis_Tournament(Tournament):\n",
        "\n",
        "    def __init__(self, name = 'Default', tour_players = 0):\n",
        "        super().__init__(name)\n",
        "        self.tour_players = tour_players\n",
        "    \n",
        "    def detail(self):\n",
        "        temp = f'Tennis Tournament Name: {self.get_name()}'\n",
        "        temp += f'\\nNumber of Players: {self.tour_players}'\n",
        "        return temp\n",
        "\n",
        "\n",
        "# given tester code\n",
        "\n",
        "ct1 = Cricket_Tournament()\n",
        "print(ct1.detail())\n",
        "print(\"-----------------------\")\n",
        "ct2 = Cricket_Tournament(\"IPL\",10,\"t20\")\n",
        "print(ct2.detail())\n",
        "print(\"-----------------------\")\n",
        "tt = Tennis_Tournament(\"Roland Garros\",128)\n",
        "print(tt.detail())\n",
        "\n",
        "# end"
      ],
      "metadata": {
        "colab": {
          "base_uri": "https://localhost:8080/"
        },
        "id": "OJwRXRapcSp8",
        "outputId": "819a7002-9266-4562-a575-1635c7117840"
      },
      "execution_count": null,
      "outputs": [
        {
          "output_type": "stream",
          "name": "stdout",
          "text": [
            "Cricket Tournament Name: Default\n",
            "Number of Teams: 0\n",
            "Type: No type\n",
            "-----------------------\n",
            "Cricket Tournament Name: IPL\n",
            "Number of Teams: 10\n",
            "Type: t20\n",
            "-----------------------\n",
            "Tennis Tournament Name: Roland Garros\n",
            "Number of Players: 128\n"
          ]
        }
      ]
    },
    {
      "cell_type": "markdown",
      "source": [
        "# **Task - 4**\n",
        "Given the following classes, write the code for the **Book** and the **CD** class so that thefollowing output is printed.\n",
        "\n",
        "---\n",
        "\n",
        "*OUTPUT:*\n",
        "\n",
        "ID: 1 Title: The Alchemist Price: 500\\\n",
        "ISBN: 97806 Publisher: HarperCollins\\\n",
        "\\-----------------------\\\n",
        "ID: 2 Title: Shotto Price: 300\\\n",
        "Band: Warfaze Duration: 50minutes\\\n",
        "Genre: Hard Rock"
      ],
      "metadata": {
        "id": "l8D9dY97xtyd"
      }
    },
    {
      "cell_type": "code",
      "source": [
        "# given class\n",
        "\n",
        "class Product:\n",
        "    def __init__(self,id, title, price):\n",
        "        self.__id = id\n",
        "        self. __title = title\n",
        "        self. __price = price\n",
        "    def get_id_title_price(self):\n",
        "        return \"ID: \"+str(self.__id)+\" Title: \"+self.__title+\" Price: \"+str(self.__price)\n",
        "\n",
        "\n",
        "# create class\n",
        "\n",
        "class Book(Product):\n",
        "    \n",
        "    def __init__(self, id, title, price, isbn, publisher):\n",
        "        super().__init__(id, title, price)\n",
        "        self.isbn = isbn\n",
        "        self.publisher = publisher\n",
        "    \n",
        "    def printDetail(self):\n",
        "        temp = self.get_id_title_price()\n",
        "        temp += f'\\nISBN: {self.isbn} Publisher: {self.publisher}'\n",
        "        return temp\n",
        "\n",
        "\n",
        "class CD(Product):\n",
        "    \n",
        "    def __init__(self, id, title, price, band, duration, genre):\n",
        "        super().__init__(id, title, price)\n",
        "        self.band = band\n",
        "        self.duration = duration\n",
        "        self.genre = genre\n",
        "    \n",
        "    def printDetail(self):\n",
        "        temp = self.get_id_title_price()\n",
        "        temp += f'\\nBand: {self.band} Duration: {self.duration}minutes'\n",
        "        temp += f'\\nGenre: {self.genre}'\n",
        "        return temp\n",
        "\n",
        "\n",
        "# given tester code\n",
        "\n",
        "book = Book(1,\"The Alchemist\",500,\"97806\",\"HarperCollins\")\n",
        "print(book.printDetail())\n",
        "print(\"-----------------------\")\n",
        "cd = CD(2,\"Shotto\",300,\"Warfaze\",50,\"Hard Rock\")\n",
        "print(cd.printDetail())\n",
        "\n",
        "# end"
      ],
      "metadata": {
        "colab": {
          "base_uri": "https://localhost:8080/"
        },
        "id": "-jYgxGxfcarP",
        "outputId": "a022319b-9c66-44fb-b54d-baccd5461342"
      },
      "execution_count": null,
      "outputs": [
        {
          "output_type": "stream",
          "name": "stdout",
          "text": [
            "ID: 1 Title: The Alchemist Price: 500\n",
            "ISBN: 97806 Publisher: HarperCollins\n",
            "-----------------------\n",
            "ID: 2 Title: Shotto Price: 300\n",
            "Band: Warfaze Duration: 50minutes\n",
            "Genre: Hard Rock\n"
          ]
        }
      ]
    },
    {
      "cell_type": "markdown",
      "source": [
        "# **Task - 5**\n",
        "Given the following classes, write the code for the **Dog** and the **Cat** class so that the following output is printed.\n",
        "\n",
        "---\n",
        "\n",
        "*OUTPUT:*\n",
        "\n",
        "Animal does not make sound\\\n",
        "meow\\\n",
        "bark"
      ],
      "metadata": {
        "id": "Za09ugGWySBm"
      }
    },
    {
      "cell_type": "code",
      "source": [
        "# given class\n",
        "\n",
        "class Animal:\n",
        "    def __init__(self,sound):\n",
        "        self.__sound = sound\n",
        "    def makeSound(self):\n",
        "        return self.__sound\n",
        "\n",
        "class Printer:\n",
        "    def printSound(self, a):\n",
        "        print(a.makeSound())\n",
        "\n",
        "\n",
        "# create class\n",
        "\n",
        "class Dog(Animal):\n",
        "    \n",
        "    pass\n",
        "\n",
        "\n",
        "class Cat(Animal):\n",
        "    \n",
        "    pass\n",
        "\n",
        "\n",
        "# given tester code\n",
        "\n",
        "d1 = Dog('bark')\n",
        "c1 = Cat('meow')\n",
        "a1 = Animal('Animal does not make sound')\n",
        "pr = Printer()\n",
        "pr.printSound(a1)\n",
        "pr.printSound(c1)\n",
        "pr.printSound(d1)\n",
        "\n",
        "# end"
      ],
      "metadata": {
        "colab": {
          "base_uri": "https://localhost:8080/"
        },
        "id": "o5nAX79ncpmY",
        "outputId": "d8a2d912-7653-490b-88fd-23773ebc70ef"
      },
      "execution_count": null,
      "outputs": [
        {
          "output_type": "stream",
          "name": "stdout",
          "text": [
            "Animal does not make sound\n",
            "meow\n",
            "bark\n"
          ]
        }
      ]
    },
    {
      "cell_type": "markdown",
      "source": [
        "# **Task - 6**\n",
        "Given the following classes, write the code for the **Triangle** and the **Trapezoid** class so that the following output is printed.\n",
        "\n",
        "---\n",
        "\n",
        "*OUTPUT:*\n",
        "\n",
        "Shape name: Default\\\n",
        "Height: 0, Base: 0\\\n",
        "Area: 0.0\\\n",
        "\\---------------------------\\\n",
        "Shape name: Triangle\\\n",
        "Height: 10, Base: 5\\\n",
        "Area: 25.0\\\n",
        "\\---------------------------\\\n",
        "Shape name: Trapezoid\\\n",
        "Height: 10, Base: 6, Side_A: 4\\\n",
        "Area: 50.0"
      ],
      "metadata": {
        "id": "j4D-C89-y-dK"
      }
    },
    {
      "cell_type": "code",
      "source": [
        "# given class\n",
        "\n",
        "class Shape:\n",
        "    def __init__(self, name='Default', height=0, base=0):\n",
        "        self.area = 0\n",
        "        self.name = name\n",
        "        self.height = height\n",
        "        self.base = base\n",
        "    def get_height_base(self):\n",
        "        return \"Height: \"+str(self.height)+\", Base: \"+str(self.base)\n",
        "\n",
        "\n",
        "# create class\n",
        "\n",
        "class triangle(Shape):\n",
        "    \n",
        "    def __init__(self, name='Default', height=0, base=0):\n",
        "        super().__init__(name, height, base)\n",
        "    \n",
        "    def calcArea(self):\n",
        "        self.area = 0.5 * self.base * self.height\n",
        "    \n",
        "    def printDetail(self):\n",
        "        temp = f'Shape name: {self.name}\\n'\n",
        "        temp += self.get_height_base()\n",
        "        temp += f'\\nArea: {self.area}'\n",
        "        return temp\n",
        "\n",
        "\n",
        "class trapezoid(Shape):\n",
        "    \n",
        "    def __init__(self, name='Default', height=0, base=0, side_a=0):\n",
        "        super().__init__(name, height, base)\n",
        "        self.side_a = side_a\n",
        "    \n",
        "    def calcArea(self):\n",
        "        self.area = 0.5 * (self.base + self.side_a) * self.height\n",
        "    \n",
        "    def printDetail(self):\n",
        "        temp = f'Shape name: {self.name}\\n'\n",
        "        temp += self.get_height_base()\n",
        "        temp += f', Side_A: {self.side_a}'\n",
        "        temp += f'\\nArea: {self.area}'\n",
        "        return temp\n",
        "\n",
        "\n",
        "# given tester code\n",
        "\n",
        "tri_default = triangle()\n",
        "tri_default.calcArea()\n",
        "print(tri_default.printDetail())\n",
        "print('--------------------------')\n",
        "tri = triangle('Triangle', 10, 5)\n",
        "tri.calcArea()\n",
        "print(tri.printDetail())\n",
        "print('---------------------------')\n",
        "trap = trapezoid('Trapezoid', 10, 6, 4)\n",
        "trap.calcArea()\n",
        "print(trap.printDetail())\n",
        "\n",
        "# end"
      ],
      "metadata": {
        "colab": {
          "base_uri": "https://localhost:8080/"
        },
        "id": "0J7VfMoJcwYp",
        "outputId": "fed2d223-ed0e-4bed-97cf-0b0551800e30"
      },
      "execution_count": null,
      "outputs": [
        {
          "output_type": "stream",
          "name": "stdout",
          "text": [
            "Shape name: Default\n",
            "Height: 0, Base: 0\n",
            "Area: 0.0\n",
            "--------------------------\n",
            "Shape name: Triangle\n",
            "Height: 10, Base: 5\n",
            "Area: 25.0\n",
            "---------------------------\n",
            "Shape name: Trapezoid\n",
            "Height: 10, Base: 6, Side_A: 4\n",
            "Area: 50.0\n"
          ]
        }
      ]
    },
    {
      "cell_type": "markdown",
      "source": [
        "# **Task - 7**\n",
        "Given the following classes, write the code for the **Player** and the **Manager** class so that the following output is printed. To calculate the match earning use the following formula:\n",
        "1. Player: (total_goal * 1000) + (total_match * 10)\n",
        "2. Manager: match_win * 1000\n",
        "\n",
        "---\n",
        "\n",
        "*OUTPUT:*\n",
        "\n",
        "Name: Ronaldo, Team Name: Juventus\\\n",
        "Team Role: Striker\\\n",
        "Total Goal: 25, Total Played: 32\\\n",
        "Goal Ratio: 0.78125\\\n",
        "Match Earning: 25320K\\\n",
        "\\----------------------------------\\\n",
        "Name: Zidane, Team Name: Real Madrid\\\n",
        "Team Role: Manager\\\n",
        "Total Win: 25\\\n",
        "Match Earning: 25000K"
      ],
      "metadata": {
        "id": "yqj7Jdxyzbb9"
      }
    },
    {
      "cell_type": "code",
      "source": [
        "# given class\n",
        "\n",
        "class Football:\n",
        "    def __init__(self, team_name, name, role):\n",
        "        self.__team = team_name\n",
        "        self.__name = name\n",
        "        self.role = role\n",
        "        self.earning_per_match = 0\n",
        "    def get_name_team(self):\n",
        "        return 'Name: '+self.__name+', Team Name: ' +self.__team\n",
        "\n",
        "\n",
        "# create class\n",
        "\n",
        "class Player(Football):\n",
        "    \n",
        "    def __init__(self, team_name, name, role, total_goal, total_played):\n",
        "        super().__init__(team_name, name, role)\n",
        "        self.total_goal = total_goal\n",
        "        self.total_played = total_played\n",
        "        self.earning_per_match = (total_goal * 1000) + (total_played * 10)\n",
        "    \n",
        "    def calculate_ratio(self):\n",
        "        self.ratio = self.total_goal / self.total_played\n",
        "    \n",
        "    def print_details(self):\n",
        "        print(self.get_name_team())\n",
        "        print(f'Team Role: {self.role}')\n",
        "        print(f'Total Goal: {self.total_goal}, Total Played: {self.total_played}')\n",
        "        print(f'Goal Ratio: {self.ratio}')\n",
        "        print(f'Match Earning: {self.earning_per_match}K')\n",
        "\n",
        "class Manager(Football):\n",
        "    \n",
        "    def __init__(self, team_name, name, role, total_win):\n",
        "        super().__init__(team_name, name, role)\n",
        "        self.total_win = total_win\n",
        "        self.earning_per_match = total_win * 1000\n",
        "    \n",
        "    def print_details(self):\n",
        "        print(self.get_name_team())\n",
        "        print(f'Team Role: {self.role}')\n",
        "        print(f'Total Win: {self.total_win}')\n",
        "        print(f'Match Earning: {self.earning_per_match}K')\n",
        "\n",
        "\n",
        "# given tester code\n",
        "\n",
        "player_one = Player('Juventus', 'Ronaldo', 'Striker', 25, 32)\n",
        "player_one.calculate_ratio()\n",
        "player_one.print_details()\n",
        "print('------------------------------------------')\n",
        "manager_one = Manager('Real Madrid', 'Zidane', 'Manager', 25)\n",
        "manager_one.print_details()\n",
        "\n",
        "# end"
      ],
      "metadata": {
        "id": "YXClD9xec2mG",
        "colab": {
          "base_uri": "https://localhost:8080/"
        },
        "outputId": "34ce28ca-74a1-4fe5-c93b-90114a491eeb"
      },
      "execution_count": null,
      "outputs": [
        {
          "output_type": "stream",
          "name": "stdout",
          "text": [
            "Name: Ronaldo, Team Name: Juventus\n",
            "Team Role: Striker\n",
            "Total Goal: 25, Total Played: 32\n",
            "Goal Ratio: 0.78125\n",
            "Match Earning: 25320K\n",
            "------------------------------------------\n",
            "Name: Zidane, Team Name: Real Madrid\n",
            "Team Role: Manager\n",
            "Total Win: 25\n",
            "Match Earning: 25000K\n"
          ]
        }
      ]
    }
  ]
}