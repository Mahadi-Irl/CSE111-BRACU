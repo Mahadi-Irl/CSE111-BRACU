{
  "nbformat": 4,
  "nbformat_minor": 0,
  "metadata": {
    "colab": {
      "name": "Assignment 2_21201301_Mahadi Ibne Bakar.ipynb",
      "provenance": [],
      "collapsed_sections": []
    },
    "kernelspec": {
      "name": "python3",
      "display_name": "Python 3"
    },
    "language_info": {
      "name": "python"
    }
  },
  "cells": [
    {
      "cell_type": "markdown",
      "source": [
        "# **Problem - 1**\n",
        "Write a function which will return the fraction part after dividing a number by\n",
        "another. The range should be within 0 and 1. Exception: Since dividing anything by 0 results in error so if the denominator is 0, the function will return 0 instead of attempting the division.\n",
        "\n",
        "\n",
        "---\n",
        "\n",
        "\n",
        "Sample Input 1 : \n",
        "\n",
        "(5, 2)\n",
        "\n",
        "Sample Output 1 : \n",
        "\n",
        "0.5\n",
        "\n",
        "\n",
        "---\n",
        "\n",
        "\n",
        "Sample Input 2 : \n",
        "\n",
        "(5, 0)\n",
        "\n",
        "Sample Output 2 : \n",
        "\n",
        "0\n",
        "\n",
        "\n",
        "---\n",
        "\n",
        "\n",
        "Sample Input 3 : \n",
        "\n",
        "(0, 5)\n",
        "\n",
        "Sample Output 3 : \n",
        "\n",
        "0\n",
        "\n",
        "\n"
      ],
      "metadata": {
        "id": "q6dpEyR-qMHT"
      }
    },
    {
      "cell_type": "code",
      "source": [
        "# define a function which will return the fraction part after dividing a number by another\n",
        "\n",
        "def division(num_1,num_2):\n",
        "    if num_2 == 0 :\n",
        "        return 0\n",
        "    else :\n",
        "        fraction = ( num_1 / num_2 ) % 1\n",
        "        return fraction\n",
        "\n",
        "\n",
        "# take input from the user\n",
        "\n",
        "num_1 = int(input('Please input a number : '))\n",
        "num_2 = int(input('Please input another number : '))\n",
        "\n",
        "# call function and print the result\n",
        "\n",
        "print(division(num_1, num_2))\n",
        "\n",
        "# end"
      ],
      "metadata": {
        "id": "HhG9SniDrO-6",
        "colab": {
          "base_uri": "https://localhost:8080/"
        },
        "outputId": "538e5878-c0db-4a82-9a6e-c239fd7913f2"
      },
      "execution_count": null,
      "outputs": [
        {
          "output_type": "stream",
          "name": "stdout",
          "text": [
            "Please input a number : 5\n",
            "Please input another number : 2\n",
            "0.5\n"
          ]
        }
      ]
    },
    {
      "cell_type": "markdown",
      "source": [
        "# **Problem - 2**\n",
        "You are one of the gym instructors at AmiKenoMota. You decide to provide a\n",
        "customized diet and exercise plans based on the BMI of an individual. You measure the weight in kilograms and height in meters and calculate the BMI before a plan can be decided. Write a BMI function that takes in two values, weight in kg and height in cm and print the score along with the condition. (Make sure to convert cm into m before calculation)\n",
        "\n",
        "BMI(height, weight)\n",
        "\n",
        "BMI = kg/m^2\n",
        "\n",
        "Based on the BMI score return the following output.\n",
        "\n",
        "● < 18.5- Underweight\n",
        "\n",
        "● 18.5 - 24.9 - Normal\n",
        "\n",
        "● 25 -30 - Overweight\n",
        "\n",
        "● > 30 – Obese\n",
        "\n",
        "\n",
        "---\n",
        "\n",
        "\n",
        "Sample Input 1 : \n",
        "\n",
        "(175, 96)\n",
        "\n",
        "Sample Output 1 : \n",
        "\n",
        "Score is 31.3. You are Obese\n",
        "\n",
        "\n",
        "---\n",
        "\n",
        "\n",
        "Sample Input 2 : \n",
        "\n",
        "(152, 48)\n",
        "\n",
        "Sample Output 2 : \n",
        "\n",
        "Score is 20.8. You are Normal\n",
        "\n",
        "\n"
      ],
      "metadata": {
        "id": "ExajR9JHrPiZ"
      }
    },
    {
      "cell_type": "code",
      "source": [
        "# define a function which will calculate bmi from weight and height\n",
        "\n",
        "def bmicalculator(height,weight):\n",
        "    bmi = round ( weight / ((height / 100) ** 2), 1 )\n",
        "    if bmi < 18.5 :\n",
        "        condition = 'Underweight'\n",
        "    elif 18.5 <= bmi <= 24.9 :\n",
        "        condition = 'Normal'\n",
        "    elif 24.9 <= bmi <= 30 :\n",
        "        condition = 'Overweight'\n",
        "    else :\n",
        "        condition = 'Obese'\n",
        "    print(f'Score is {bmi}. You are {condition}')\n",
        "\n",
        "\n",
        "# take input from the user\n",
        "\n",
        "height = float(input('Please enter your height (in cm) : '))\n",
        "weight = float(input('Please enter your weight (in kg) : '))\n",
        "\n",
        "# call function\n",
        "\n",
        "bmicalculator(height,weight)\n",
        "\n",
        "# end"
      ],
      "metadata": {
        "id": "LEN2ZB7QrRv8",
        "colab": {
          "base_uri": "https://localhost:8080/"
        },
        "outputId": "d3e51818-5f2f-4a20-9f9c-ddf548c2a1a6"
      },
      "execution_count": null,
      "outputs": [
        {
          "output_type": "stream",
          "name": "stdout",
          "text": [
            "Please enter your height (in cm) : 175\n",
            "Please enter your weight (in kg) : 96\n",
            "Score is 31.3. You are Obese\n"
          ]
        }
      ]
    },
    {
      "cell_type": "markdown",
      "source": [
        "# **Problem - 3**\n",
        "Write a function which will take 3 arguments minimum, maximum and divisor.\n",
        "You have to find all the numbers that are divisible by the divisor where minimum\n",
        "value is inclusive and maximum value is exclusive. Add all the numbers and return the value.\n",
        "\n",
        "\n",
        "---\n",
        "\n",
        "\n",
        "Sample Input 1 : \n",
        "\n",
        "(0, 10, 2)\n",
        "\n",
        "Sample Output 1 : \n",
        "\n",
        "20\n",
        "\n",
        "\n",
        "---\n",
        "\n",
        "\n",
        "Sample Input 2 : \n",
        "\n",
        "(3, 16, 3)\n",
        "\n",
        "Sample Output 2 : \n",
        "\n",
        "45\n",
        "\n",
        "\n"
      ],
      "metadata": {
        "id": "l32GcITlrTKQ"
      }
    },
    {
      "cell_type": "code",
      "source": [
        "# define a function to calculate the sum of all numbers that are divisible by the divisor\n",
        "\n",
        "def divisiblecount(mnmm,mxmm,div) :\n",
        "    sum = 0\n",
        "    for i in range(mnmm,mxmm) :\n",
        "        if i % div == 0 :\n",
        "            sum += i\n",
        "    return sum\n",
        "\n",
        "\n",
        "# take input from the user\n",
        "\n",
        "mnmm = int(input('Please enter the minimum value : '))\n",
        "mxmm = int(input('Please enter the maximum value : '))\n",
        "div = int(input('Please enter the divisor value : '))\n",
        "\n",
        "# call function and print the result\n",
        "\n",
        "print(divisiblecount(mnmm,mxmm,div))\n",
        "\n",
        "# end"
      ],
      "metadata": {
        "id": "xOvzEXwwrTrG",
        "colab": {
          "base_uri": "https://localhost:8080/"
        },
        "outputId": "ec679967-4df7-4aac-c9be-75ea21789c83"
      },
      "execution_count": null,
      "outputs": [
        {
          "output_type": "stream",
          "name": "stdout",
          "text": [
            "Please enter the minimum value : 3\n",
            "Please enter the maximum value : 16\n",
            "Please enter the divisor value : 3\n",
            "45\n"
          ]
        }
      ]
    },
    {
      "cell_type": "markdown",
      "source": [
        "# **Problem - 4**\n",
        "You want to order Burger from Chillox through the FoodPanda App. You have to\n",
        "calculate the total price. Write a function which will take the name of the burger and place(Mohakhali/Outside of Mohakhali) as input. Use default argument technique for taking place input.\n",
        "\n",
        "Menu & Price(Tk):\n",
        "\n",
        "BBQ Chicken Cheese Burger - 250\n",
        "\n",
        "Beef Burger - 170\n",
        "\n",
        "Naga Drums - 200\n",
        "\n",
        "Hint: Total Price = meal_cost + delivery_charge + tax\n",
        "\n",
        "Note that:\n",
        "\n",
        "● If your home is in Mohakhali area then your delivery charge is 40 taka\n",
        "else 60 taka\n",
        "\n",
        "● Your tax rate is 8% of your meal.\n",
        "\n",
        "\n",
        "---\n",
        "\n",
        "\n",
        "Sample Input 1 : \n",
        "\n",
        "(‘Beef Burger’, ‘Dhanmondi’)\n",
        "\n",
        "Sample Output 1 : \n",
        "\n",
        "243.6\n",
        "\n",
        "\n",
        "---\n",
        "\n",
        "\n",
        "Sample Input 2 : \n",
        "\n",
        "(‘Beef Burger’)\n",
        "\n",
        "Sample Output 2 : \n",
        "\n",
        "223.6\n",
        "\n",
        "\n"
      ],
      "metadata": {
        "id": "1MyfMUT2rUJW"
      }
    },
    {
      "cell_type": "code",
      "source": [
        "# keep the menu items and prices in a dictionary\n",
        "\n",
        "menu = {'BBQ Chicken Cheese Burger' : 250, 'Beef Burger' : 170, 'Naga Drums' : 200}\n",
        "\n",
        "# define a function to calculate the total price of a food order\n",
        "\n",
        "def bill_calculate(item, place='Mohakhali') :\n",
        "    meal_cost = menu[item]\n",
        "    if place == 'Mohakhali' :\n",
        "        delivery_charge = 40\n",
        "    else :\n",
        "        delivery_charge = 60\n",
        "    tax = meal_cost * (8/100)\n",
        "    total_price = meal_cost + delivery_charge + tax\n",
        "    return total_price\n",
        "\n",
        "\n",
        "# take input from the user\n",
        "\n",
        "item = input('Please enter the name of the burger : ')\n",
        "place = input('Do you want to enter your location (Yes/No): ')\n",
        "\n",
        "# call function and print the result\n",
        "\n",
        "if place == 'Yes' :\n",
        "    place = input('Please input your location')\n",
        "    print(bill_calculate(item, place))\n",
        "else :\n",
        "    print(bill_calculate(item))\n",
        "\n",
        "# end"
      ],
      "metadata": {
        "id": "PzeUpycxrUj_",
        "colab": {
          "base_uri": "https://localhost:8080/"
        },
        "outputId": "cdce096c-4b02-4fcf-d9b4-1199989a8c9c"
      },
      "execution_count": null,
      "outputs": [
        {
          "output_type": "stream",
          "name": "stdout",
          "text": [
            "Please enter the name of the burger : Beef Burger\n",
            "Do you want to enter your location (Yes/No): No\n",
            "223.6\n"
          ]
        }
      ]
    },
    {
      "cell_type": "markdown",
      "source": [
        "# **Problem - 5**\n",
        "A company named Sheba.xyz has recently moved from their old domain to a new\n",
        "domain. However, a lot of the company email addresses are still using the old one. Write a function in python that replaces this old domain with the new one in any outdated email addresses. Keep same if the email address contains the new domain. (Do not use builtin replace function)\n",
        "\n",
        "Firstly, define a “replace_domain” function which accepts three parameters\n",
        "\n",
        "*The email address to be checked\n",
        "\n",
        "*The new domain\n",
        "\n",
        "*The old domain (Use Default argument technique to handle this)\n",
        "\n",
        "\n",
        "---\n",
        "\n",
        "\n",
        "Sample Input 1 : \n",
        "\n",
        "(‘alice@kaaj.com’, ‘sheba.xyz’, ‘kaaj.com’)\n",
        "\n",
        "Sample Output 1 : \n",
        "\n",
        "Changed: alice@sheba.xyz\n",
        "\n",
        "\n",
        "---\n",
        "\n",
        "\n",
        "Sample Input 2 : \n",
        "\n",
        "(‘bob@sheba.xyz’, ‘sheba.xyz’)\n",
        "\n",
        "Sample Output 2 : \n",
        "\n",
        "Unchanged: bob@sheba.xyz\n",
        "\n",
        "\n"
      ],
      "metadata": {
        "id": "LAKYePDVrVAs"
      }
    },
    {
      "cell_type": "code",
      "source": [
        "# define a function to replace old domain with the new one in any outdated email addresses\n",
        "\n",
        "def replace_domain(email_id,new_domain,old_domain='kaaj.com') :\n",
        "    if old_domain in email_id :\n",
        "        index = email_id.index('@')\n",
        "        new_email = email_id[:index + 1] + new_domain\n",
        "        return new_email\n",
        "    elif new_domain in email_id :\n",
        "        return email_id\n",
        "\n",
        "\n",
        "# take input from the user\n",
        "\n",
        "email_id = input('Please enter an email address : ')\n",
        "new_domain = input('Please enter the new domain : ')\n",
        "old_domain = input('Do you want to enter the old domain? (Yes/No): ')\n",
        "\n",
        "# call function and print the result\n",
        "\n",
        "if old_domain == 'Yes' :\n",
        "    old_domain = input('Please input the old domain : ')\n",
        "    print(replace_domain(email_id,new_domain,old_domain))\n",
        "else :\n",
        "    print(replace_domain(email_id,new_domain))\n",
        "\n",
        "# end"
      ],
      "metadata": {
        "id": "C2LytY7hrVbp",
        "colab": {
          "base_uri": "https://localhost:8080/"
        },
        "outputId": "839d4ad3-9e91-4d99-c995-51a1b284468e"
      },
      "execution_count": null,
      "outputs": [
        {
          "output_type": "stream",
          "name": "stdout",
          "text": [
            "Please enter an email address : bob@sheba.xyz\n",
            "Please enter the new domain : sheba.xyz\n",
            "Do you want to enter the old domain? (Yes/No): No\n",
            "bob@sheba.xyz\n"
          ]
        }
      ]
    },
    {
      "cell_type": "markdown",
      "source": [
        "# **Problem - 6**\n",
        "Write a function which takes only your full name as input and finds the total\n",
        "number of vowels in that input. Output every vowel and at the end output the total number of vowels found. If your name does not contain any vowel then your function should print “No vowels in the name!”.\n",
        "\n",
        "\n",
        "---\n",
        "\n",
        "\n",
        "Sample Input 1 : \n",
        "\n",
        "(Steve Jobs)\n",
        "\n",
        "Sample Output 1 : \n",
        "\n",
        "Vowels: e, e, o. Total number of vowels: 3\n",
        "\n",
        "\n",
        "---\n",
        "\n",
        "\n",
        "Sample Input 2 : \n",
        "\n",
        "(XYZ)\n",
        "\n",
        "Sample Output 2 : \n",
        "\n",
        "No vowels in the name\n",
        "\n",
        "\n"
      ],
      "metadata": {
        "id": "Oat7ijFqrV2v"
      }
    },
    {
      "cell_type": "code",
      "source": [
        "all_vowels = 'aeiou'\n",
        "\n",
        "# define a function to output every vowel and the total number of vowels found in a string\n",
        "\n",
        "def vowel_checker(name) :\n",
        "    vowel_list = []\n",
        "    for i in name.lower() :\n",
        "        if i in all_vowels :\n",
        "            vowel_list.append(i)\n",
        "    length = len(vowel_list)\n",
        "    if length != 0 :\n",
        "        vowels = (', ').join(vowel_list)\n",
        "        print(f'Vowels: {vowels}. Total number of vowels: {length}')\n",
        "    else :\n",
        "        print('No vowels in the name!')\n",
        "\n",
        "\n",
        "# take input from the user\n",
        "\n",
        "name = input('Please enter your name : ')    \n",
        "\n",
        "# call function\n",
        "\n",
        "vowel_checker(name)\n",
        "\n",
        "# end"
      ],
      "metadata": {
        "id": "oQUb-2IarXC0",
        "colab": {
          "base_uri": "https://localhost:8080/"
        },
        "outputId": "1d484278-6217-4821-df2c-1fe060b8f284"
      },
      "execution_count": null,
      "outputs": [
        {
          "output_type": "stream",
          "name": "stdout",
          "text": [
            "Please enter your name : Steve Jobs\n",
            "Vowels: e, e, o. Total number of vowels: 3\n"
          ]
        }
      ]
    },
    {
      "cell_type": "markdown",
      "source": [
        "# **Problem - 7**\n",
        "Write a program which checks whether a given string is a palindrome or not. Note: A palindrome is a word, phrase, or sequence that reads the same backward as forward. For palindrome, any spaces in middle are not considered and should be trimmed.\n",
        "\n",
        "\n",
        "---\n",
        "\n",
        "\n",
        "Sample Input 1 : \n",
        "\n",
        "‘madam’\n",
        "\n",
        "Sample Output 1 : \n",
        "\n",
        "Palindrome\n",
        "\n",
        "\n",
        "---\n",
        "\n",
        "\n",
        "Sample Input 2 : \n",
        "\n",
        "‘hello’\n",
        "\n",
        "Sample Output 2 : \n",
        "\n",
        "Not a palindrome\n",
        "\n",
        "\n",
        "---\n",
        "\n",
        "\n",
        "Sample Input 3 : \n",
        "\n",
        "‘nurses run’\n",
        "\n",
        "Sample Output 3 : \n",
        "\n",
        "Palindrome\n",
        "\n",
        "\n"
      ],
      "metadata": {
        "id": "t2dufSm4rXYW"
      }
    },
    {
      "cell_type": "code",
      "source": [
        "# define a function to check whether a given string is a palindrome or not\n",
        "\n",
        "def palindrome_checker(string_1) :\n",
        "    list_1 = string_1.split()\n",
        "    string_1 = ('').join(list_1)\n",
        "    if string_1 == string_1[-1::-1] :\n",
        "        print('Palindrome')\n",
        "    else :\n",
        "        print('Not a palindrome')\n",
        "\n",
        "\n",
        "# take input from the user\n",
        "\n",
        "string_1 = input('Please enter a string : ')\n",
        "\n",
        "# call function\n",
        "\n",
        "palindrome_checker(string_1)\n",
        "\n",
        "# end"
      ],
      "metadata": {
        "id": "7-RNeKoGrXsx",
        "colab": {
          "base_uri": "https://localhost:8080/"
        },
        "outputId": "0caf26dd-ae5e-460e-f63f-dc2042ab9e1e"
      },
      "execution_count": null,
      "outputs": [
        {
          "output_type": "stream",
          "name": "stdout",
          "text": [
            "Please enter a string : nurses run\n",
            "Palindrome\n"
          ]
        }
      ]
    },
    {
      "cell_type": "markdown",
      "source": [
        "# **Problem - 8**\n",
        "Write a function which takes a number of days as input and prints total number of years, number of months and remaining number of days as output.\n",
        "\n",
        "\n",
        "---\n",
        "\n",
        "\n",
        "Sample Input 1 : \n",
        "\n",
        "(4320)\n",
        "\n",
        "Sample Output 1 : \n",
        "\n",
        "11 years, 10 months and 5 days\n",
        "\n",
        "\n",
        "---\n",
        "\n",
        "\n",
        "Sample Input 2 : \n",
        "\n",
        "(4000)\n",
        "\n",
        "Sample Output 2 : \n",
        "\n",
        "10 years, 11 months and 20 days\n",
        "\n",
        "\n"
      ],
      "metadata": {
        "id": "SbK5wepOrYHN"
      }
    },
    {
      "cell_type": "code",
      "source": [
        "# define a function to calculate the numbers of years, months and remaining days from total days\n",
        "\n",
        "def day_calculator(days) :\n",
        "    years = days//365\n",
        "    days -= years*365\n",
        "    months = days//30\n",
        "    days -= months*30\n",
        "    print(f'{years} years, {months} months and {days} days')\n",
        "\n",
        "\n",
        "# take input from the user\n",
        "\n",
        "days = int(input('Please enter the amount of days: '))\n",
        "\n",
        "# call function\n",
        "\n",
        "day_calculator(days)\n",
        "\n",
        "# end"
      ],
      "metadata": {
        "id": "xTU2SaLArYfv",
        "colab": {
          "base_uri": "https://localhost:8080/"
        },
        "outputId": "33efaf04-0f0f-42ad-ef87-794b57a85157"
      },
      "execution_count": null,
      "outputs": [
        {
          "output_type": "stream",
          "name": "stdout",
          "text": [
            "Please enter the amount of days: 4320\n",
            "11 years, 10 months and 5 days\n"
          ]
        }
      ]
    },
    {
      "cell_type": "markdown",
      "source": [
        "# **Problem - 9**\n",
        "You are a class teacher at a kindergarten school. As a task, you asked your\n",
        "students to write a paragraph. Unfortunately, you notice that most of the students did not use capital letters correctly. Your task is to write a function which takes a string as its only parameter and returns a new copy of the string that has been correctly capitalized. Your function should:\n",
        "\n",
        "● Capitalize the first letter in the string\n",
        "\n",
        "● Capitalize the first letter after a full-stop, exclamation mark or question mark\n",
        "\n",
        "● Capitalize the word “i” if it is in lowercase.\n",
        "\n",
        "Summary: You have to write a function that reads a string from the user and\n",
        "capitalizes. The string is then returned and displayed.\n",
        "\n",
        "\n",
        "---\n",
        "\n",
        "\n",
        "Sample Input 1 : \n",
        "\n",
        "('my favourite animal is a dog. a dog has sharp teeth so that it can eat flesh very easily.\n",
        "do you know my pet dog’s name? i love my pet very much.')\n",
        "\n",
        "Sample Output 1 : \n",
        "\n",
        "My favourite animal is a dog. A dog has sharp teeth so that it can eat flesh very easily. Do\n",
        "you know my pet dog’s name? I love my pet very much.\n",
        "\n",
        "\n"
      ],
      "metadata": {
        "id": "m-zSuIE87_Qz"
      }
    },
    {
      "cell_type": "code",
      "source": [
        "# define a function to read a string from the user and capitalize it\n",
        "\n",
        "def capitalizer(string_1) :\n",
        "    index_list = [0]\n",
        "    for i in range(len(string_1)) :\n",
        "        if string_1[i] == '.' or string_1[i] == '!' or string_1[i] == '?' :\n",
        "            index_list.append(i+2)\n",
        "        elif string_1[i-1] + string_1[i] + string_1[i+1] == ' i ' or string_1[i-1] + string_1[i] + string_1[i+1] == ' i?' or string_1[i-1] + string_1[i] + string_1[i+1] == ' i!' :\n",
        "            index_list.append(i)\n",
        "    string_2 = ''\n",
        "    for i in range(len(string_1)) :\n",
        "        if i in index_list :\n",
        "            string_2 += string_1[i].upper()\n",
        "        else :\n",
        "            string_2 += string_1[i]\n",
        "    return string_2\n",
        "\n",
        "\n",
        "# take input from the user\n",
        "\n",
        "string_1 = input('Please enter a string : ')\n",
        "\n",
        "# call function and print the result\n",
        "\n",
        "print(capitalizer(string_1))\n",
        "\n",
        "# end"
      ],
      "metadata": {
        "id": "FIy9bzsI8BXQ",
        "colab": {
          "base_uri": "https://localhost:8080/"
        },
        "outputId": "4e78b877-a43f-4147-bca8-799e9d4e78b6"
      },
      "execution_count": null,
      "outputs": [
        {
          "output_type": "stream",
          "name": "stdout",
          "text": [
            "Please enter a string : my favourite animal is a dog. a dog has sharp teeth so that it can eat flesh very easily. do you know my pet dog’s name? i love my pet very much.\n",
            "My favourite animal is a dog. A dog has sharp teeth so that it can eat flesh very easily. Do you know my pet dog’s name? I love my pet very much.\n"
          ]
        }
      ]
    }
  ]
}