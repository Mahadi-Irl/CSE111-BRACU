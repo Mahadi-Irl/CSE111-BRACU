{
  "nbformat": 4,
  "nbformat_minor": 0,
  "metadata": {
    "colab": {
      "name": "Assignment 1_21201301_Mahadi Ibne Bakar.ipynb",
      "provenance": [],
      "collapsed_sections": []
    },
    "kernelspec": {
      "name": "python3",
      "display_name": "Python 3"
    },
    "language_info": {
      "name": "python"
    }
  },
  "cells": [
    {
      "cell_type": "markdown",
      "source": [
        "# **String - 1**\n",
        "From a given string, print the string in all uppercase if the number of uppercase letters is more than lowercase letters. Otherwise, if lowercase is greater or equal to uppercase letters, print all lowercase. The inputs will contain letters (A-Z, a-z) only.\n",
        "\n",
        "\n",
        "---\n",
        "\n",
        "\n",
        "Sample Input 1 : \n",
        "\n",
        "HOusE\n",
        "\n",
        "Sample Output 1 : \n",
        "\n",
        "HOUSE\n",
        "\n",
        "\n",
        "---\n",
        "\n",
        "\n",
        "Sample Input 2 : \n",
        "\n",
        "ApplE\n",
        "\n",
        "Sample Output 2 : \n",
        "\n",
        "apple\n",
        "\n",
        "\n",
        "---\n",
        "\n",
        "\n",
        "Sample Input 3 : \n",
        "\n",
        "BaNaNa\n",
        "\n",
        "Sample Output 3 : \n",
        "\n",
        "banana\n",
        " \n",
        " \n",
        " "
      ],
      "metadata": {
        "id": "Pfrz6IH2DgS-"
      }
    },
    {
      "cell_type": "code",
      "execution_count": null,
      "metadata": {
        "id": "stBh47hpDTcp",
        "colab": {
          "base_uri": "https://localhost:8080/"
        },
        "outputId": "2e9dd786-febb-498a-eaff-6dc39e0abab7"
      },
      "outputs": [
        {
          "output_type": "stream",
          "name": "stdout",
          "text": [
            "Please enter a string : BaNaNa\n",
            "banana\n"
          ]
        }
      ],
      "source": [
        "# take input from user\n",
        "\n",
        "string_1 = input('Please enter a string : ')\n",
        "\n",
        "upper = 0\n",
        "lower = 0\n",
        "\n",
        "# set loop conditions to check for uppercase and lowercase letters\n",
        "\n",
        "for i in string_1 :\n",
        "    if 'A' <= i <= 'Z' :\n",
        "        upper += 1\n",
        "    else :\n",
        "        lower += 1\n",
        "\n",
        "# print output according to question\n",
        "\n",
        "if upper > lower :\n",
        "    print(string_1.upper())\n",
        "else :\n",
        "    print(string_1.lower())\n",
        "\n",
        "# end"
      ]
    },
    {
      "cell_type": "markdown",
      "source": [
        "# **String - 2**\n",
        "Given a string, print whether it is a number, word or mixed with digit and letters. If all the characters are numeric values, print NUMBER. If they are all letters, print WORD. If it is mixed, print MIXED.\n",
        "\n",
        "\n",
        "---\n",
        "\n",
        "\n",
        "Sample Input 1 : \n",
        "\n",
        "213213\n",
        "\n",
        "Sample Output 1 : \n",
        "\n",
        "NUMBER\n",
        "\n",
        "\n",
        "---\n",
        "\n",
        "\n",
        "Sample Input 2 : \n",
        "\n",
        "jhg231j213\n",
        "\n",
        "Sample Output 2 : \n",
        "\n",
        "MIXED\n",
        "\n",
        "\n",
        "---\n",
        "\n",
        "\n",
        "Sample Input 3 : \n",
        "\n",
        "Hello\n",
        "\n",
        "Sample Output 3 : \n",
        "\n",
        "WORD\n",
        " \n",
        " \n"
      ],
      "metadata": {
        "id": "qqV_JOyjD9N3"
      }
    },
    {
      "cell_type": "code",
      "source": [
        "\n",
        "# take input from user\n",
        "\n",
        "string_1 = input('Please enter a string : ')\n",
        "\n",
        "digits = '0123456789'\n",
        "\n",
        "numbers = False\n",
        "words = False\n",
        "\n",
        "# set loop conditions to check for numbers and letters\n",
        "\n",
        "for i in string_1 :\n",
        "    if i in digits :\n",
        "        numbers = True\n",
        "    else :\n",
        "        words = True\n",
        "\n",
        "# print output according to question\n",
        "\n",
        "if numbers and words :\n",
        "    print('MIXED')\n",
        "elif numbers :\n",
        "    print('NUMBER')\n",
        "else :\n",
        "    print('WORD')\n",
        "\n",
        "# end"
      ],
      "metadata": {
        "id": "a-Cwl-YLD4BF",
        "colab": {
          "base_uri": "https://localhost:8080/"
        },
        "outputId": "021c95c4-6892-46b2-97f5-6ffea6cf8729"
      },
      "execution_count": null,
      "outputs": [
        {
          "output_type": "stream",
          "name": "stdout",
          "text": [
            "Please enter a string : Hello\n",
            "WORD\n"
          ]
        }
      ]
    },
    {
      "cell_type": "markdown",
      "source": [
        "# **String - 3**\n",
        "In a given string, there will be two uppercase letters in between some lowercase letters. Print the substring from the first uppercase letter to the last uppercase letter excluding them. If there are no letters in between them, print the word BLANK. It is guaranteed that there will be only two uppercase letters in the string.\n",
        "\n",
        "\n",
        "---\n",
        "\n",
        "\n",
        "Sample Input 1 : \n",
        "\n",
        "baNgladEsh\n",
        "\n",
        "Sample Output 1 : \n",
        "\n",
        "glad\n",
        "\n",
        "\n",
        "---\n",
        "\n",
        "\n",
        "Sample Input 2 : \n",
        "\n",
        "coDIng\n",
        "\n",
        "Sample Output 2 : \n",
        "\n",
        "BLANK\n",
        "\n",
        "\n"
      ],
      "metadata": {
        "id": "Xbbkf2JZEFsi"
      }
    },
    {
      "cell_type": "code",
      "source": [
        "# take input from user\n",
        "\n",
        "string_1 = input('Please enter a string : ')\n",
        "\n",
        "index_1 = 0\n",
        "index_2 = 0\n",
        "\n",
        "# set loop conditions to check the index of uppercase letters\n",
        "\n",
        "for i in range(len(string_1)) :\n",
        "    if 'A' <= string_1[i] <= 'Z' :\n",
        "        index_1 = i + 1\n",
        "        break\n",
        "for i in range(index_1, len(string_1)) :\n",
        "    if 'A' <= string_1[i] <= 'Z' :\n",
        "        index_2 = i\n",
        "        break\n",
        "\n",
        "# print output according to question\n",
        "\n",
        "string_2 = string_1[index_1:index_2]\n",
        "\n",
        "if len(string_2) != 0 :\n",
        "    print(string_2)\n",
        "else :\n",
        "    print('BLANK')\n",
        "\n",
        "# end"
      ],
      "metadata": {
        "id": "drymq6WHD8Z3",
        "colab": {
          "base_uri": "https://localhost:8080/"
        },
        "outputId": "978f1901-6289-41cc-940d-b26294266328"
      },
      "execution_count": null,
      "outputs": [
        {
          "output_type": "stream",
          "name": "stdout",
          "text": [
            "Please enter a string : coDIng\n",
            "BLANK\n"
          ]
        }
      ]
    },
    {
      "cell_type": "markdown",
      "source": [
        "# **String - 4**\n",
        "Write a Python program to find the first appearance of the substring 'too' and 'good' from a given string. If 'good' follows the 'too', replace the whole 'too'' good' substring with 'excellent' and print the resulting string. If the above does not appear, print the string as it is.\n",
        "\n",
        "\n",
        "---\n",
        "\n",
        "\n",
        "Sample Input 1 : \n",
        "\n",
        "The book is not too good!\n",
        "\n",
        "Sample Output 1 : \n",
        "\n",
        "The book is not excellent!\n",
        "\n",
        "\n",
        "---\n",
        "\n",
        "\n",
        "Sample Input 2 : \n",
        "\n",
        "This book is good too!\n",
        "\n",
        "Sample Output 2 : \n",
        "\n",
        "This book is good too!\n",
        "\n"
      ],
      "metadata": {
        "id": "MHJk9hxWET4V"
      }
    },
    {
      "cell_type": "code",
      "source": [
        "# take input from user\n",
        "\n",
        "string_1 = input('Please enter a string : ')\n",
        "\n",
        "string_2 = 'too good'\n",
        "string_3 = ''\n",
        "\n",
        "# set conditions to find the desired substring and change it\n",
        "\n",
        "if string_2 in string_1 :\n",
        "    index_1 = string_1.index(string_2)\n",
        "    string_3 = string_1[:index_1] + 'excellent' + string_1[index_1 + len(string_2) : ]\n",
        "    print(string_3)\n",
        "else :\n",
        "    print(string_1)\n",
        " \n",
        "# end"
      ],
      "metadata": {
        "id": "MGkW0EhyD8Jt",
        "colab": {
          "base_uri": "https://localhost:8080/"
        },
        "outputId": "e4e48e0d-9366-4342-94b5-9f68fa4ac935"
      },
      "execution_count": null,
      "outputs": [
        {
          "output_type": "stream",
          "name": "stdout",
          "text": [
            "Please enter a string : This book is good too!\n",
            "This book is good too!\n"
          ]
        }
      ]
    },
    {
      "cell_type": "markdown",
      "source": [
        "# **String - 5**\n",
        "Create a string from two given strings by concatenating common characters of the given strings.\n",
        "\n",
        "\n",
        "---\n",
        "\n",
        "\n",
        "Sample Input 1 : \n",
        "\n",
        "harry, hermione\n",
        "\n",
        "Sample Output 1 : \n",
        "\n",
        "hrrhr\n",
        "\n",
        "\n",
        "---\n",
        "\n",
        "\n",
        "Sample Input 2 : \n",
        "\n",
        "dean, tom\n",
        "\n",
        "Sample Output 2 : \n",
        "\n",
        "Nothing in common.\n",
        "\n"
      ],
      "metadata": {
        "id": "PxnbQHDlEgcJ"
      }
    },
    {
      "cell_type": "code",
      "source": [
        "# take input from user\n",
        "\n",
        "string_1 = input('Please enter a string : ')\n",
        "string_2 = input('Please enter another string : ')\n",
        "\n",
        "string_3 = ''\n",
        "\n",
        "# set loop conditions to check for common characters\n",
        "\n",
        "for i in string_1 :\n",
        "    if i in string_2 :\n",
        "        string_3 += i\n",
        "for i in string_2 :\n",
        "    if i in string_1 :\n",
        "        string_3 += i\n",
        "\n",
        "# print output according to question\n",
        "\n",
        "if len(string_3) != 0 :\n",
        "    print(string_3)\n",
        "else :\n",
        "    print('Nothing in common')\n",
        "\n",
        "# end"
      ],
      "metadata": {
        "id": "jLNrWBvZD74c",
        "colab": {
          "base_uri": "https://localhost:8080/"
        },
        "outputId": "db893109-58c6-4298-df53-2c4e57df39a8"
      },
      "execution_count": null,
      "outputs": [
        {
          "output_type": "stream",
          "name": "stdout",
          "text": [
            "Please enter a string : dean\n",
            "Please enter another string : tom\n",
            "Nothing in common\n"
          ]
        }
      ]
    },
    {
      "cell_type": "markdown",
      "source": [
        "# **String - 6**\n",
        "Again, you have lost your USIS password!! You went to the registrar office and requested for a new password. This time, you need to follow some rules to set your password. Otherwise, they won't change it. The rules are\n",
        "\n",
        "At least one lowercase letter\n",
        "\n",
        "At least one uppercase letter\n",
        "\n",
        "At least one digit (0-9)\n",
        "\n",
        "At least one special character (_ , $ , #, @)\n",
        "\n",
        "Your task is to find whether a given password follows all those rules. If it breaks any rule, you have to print Lowercase Missing, Uppercase Missing, Digit Missing or Special Missing respective to the missing case. For more than one rule break, print all the rules that were broken (order doesn't matter). If the password is ok, print OK.\n",
        "\n",
        "\n",
        "---\n",
        "\n",
        "\n",
        "Sample Input 1 : \n",
        "\n",
        "ohMyBR@CU\n",
        "\n",
        "Sample Output 1 : \n",
        "\n",
        "Digit missing\n",
        "\n",
        "\n",
        "---\n",
        "\n",
        "\n",
        "Sample Input 2 : \n",
        "\n",
        "ohmybracu\n",
        "\n",
        "Sample Output 2 : \n",
        "\n",
        "Uppercase character missing, Digit missing, Special character missing\n",
        "\n",
        "\n",
        "---\n",
        "\n",
        "\n",
        "Sample Input 3 : \n",
        "\n",
        "OhMyBR@CU20\n",
        "\n",
        "Sample Output 3 : \n",
        "\n",
        "OK\n",
        " \n"
      ],
      "metadata": {
        "id": "racV0IN7Erey"
      }
    },
    {
      "cell_type": "code",
      "source": [
        "# take input from user\n",
        "\n",
        "string_1 = input('Please enter a password : ')\n",
        "\n",
        "all_digits = '0123456789'\n",
        "all_sp_chrctrs = '_$#@'\n",
        "\n",
        "upper_letters = False\n",
        "lower_letters = False\n",
        "digits = False\n",
        "sp_chrctrs = False\n",
        "\n",
        "# set loop conditions to check for uppercase, lowercase, special characters and numbers\n",
        "\n",
        "for i in string_1 :\n",
        "    if 'A' <= i <= 'Z' :\n",
        "        upper_letters = True\n",
        "    elif 'a' <= i <= 'z' :\n",
        "        lower_letters = True\n",
        "    elif i in all_digits :\n",
        "        digits = True\n",
        "    elif i in all_sp_chrctrs :\n",
        "        sp_chrctrs = True\n",
        "\n",
        "# print output according to question\n",
        "\n",
        "if upper_letters and lower_letters and digits and sp_chrctrs :\n",
        "    print('OK')\n",
        "else :\n",
        "    string_2 = ''\n",
        "    if upper_letters != True :\n",
        "        string_2 += 'Uppercase character missing, '\n",
        "    if lower_letters != True :\n",
        "        string_2 += 'Lowercase character missing, '\n",
        "    if digits != True :\n",
        "        string_2 += 'Digit missing, '\n",
        "    if sp_chrctrs != True :\n",
        "        string_2 += 'Special character missing, '\n",
        "    print(string_2[:-2])\n",
        "\n",
        "# end"
      ],
      "metadata": {
        "id": "0GT4g53cD70c",
        "colab": {
          "base_uri": "https://localhost:8080/"
        },
        "outputId": "8f0d9394-9b35-4d02-d17e-3d7313527a39"
      },
      "execution_count": null,
      "outputs": [
        {
          "output_type": "stream",
          "name": "stdout",
          "text": [
            "Please enter a password : OhMyBR@CU20\n",
            "OK\n"
          ]
        }
      ]
    },
    {
      "cell_type": "markdown",
      "source": [
        "# **List - 1**\n",
        "Write a python program which prints the frequency of the numbers that were given\n",
        "as input by the user. Stop taking input when you find the string “STOP”. **Do not\n",
        "print the frequency of numbers that were not given as input.**\n",
        "\n",
        "\n",
        "---\n",
        "\n",
        "\n",
        "Sample Input 1 : \n",
        "\n",
        "10\n",
        "\n",
        "20\n",
        "\n",
        "20\n",
        "\n",
        "30\n",
        "\n",
        "10\n",
        "\n",
        "50\n",
        "\n",
        "90\n",
        "\n",
        "STOP\n",
        "\n",
        "Sample Output 1 : \n",
        "\n",
        "10 - 2 times\n",
        "\n",
        "20 - 2 times\n",
        "\n",
        "30 - 1 times\n",
        "\n",
        "50 - 1 times\n",
        "\n",
        "90 - 1 times\n",
        "\n"
      ],
      "metadata": {
        "id": "sHg_GaPkFVC8"
      }
    },
    {
      "cell_type": "code",
      "source": [
        "# take input from user\n",
        "\n",
        "list_1 = []\n",
        "\n",
        "while True :\n",
        "    string_1 = input('Please enter a number : ')\n",
        "    if string_1.upper() != 'STOP' :\n",
        "        list_1.append(string_1)\n",
        "    else :\n",
        "        break\n",
        "\n",
        "# print output according to question\n",
        "\n",
        "list_2 = []\n",
        "\n",
        "for i in list_1 :\n",
        "    if i not in list_2 :\n",
        "        print(f'{i} - {list_1.count(i)} times')\n",
        "        list_2.append(i)\n",
        "\n",
        "# end"
      ],
      "metadata": {
        "id": "_uaBE1UfD7v4",
        "colab": {
          "base_uri": "https://localhost:8080/"
        },
        "outputId": "bff3429a-7572-49d3-9e8b-3d089c71b475"
      },
      "execution_count": null,
      "outputs": [
        {
          "output_type": "stream",
          "name": "stdout",
          "text": [
            "Please enter a number : 10\n",
            "Please enter a number : 20\n",
            "Please enter a number : 20\n",
            "Please enter a number : 30\n",
            "Please enter a number : 10\n",
            "Please enter a number : 50\n",
            "Please enter a number : 90\n",
            "Please enter a number : STOP\n",
            "10 - 2 times\n",
            "20 - 2 times\n",
            "30 - 1 times\n",
            "50 - 1 times\n",
            "90 - 1 times\n"
          ]
        }
      ]
    },
    {
      "cell_type": "markdown",
      "source": [
        "# **List - 2**\n",
        "Write a python program that calculates the sum of N given lists and prints the highest sum and its respective list. Input starts with N and followed by N lists.\n",
        "\n",
        "\n",
        "---\n",
        "\n",
        "\n",
        "Sample Input 1 : \n",
        "\n",
        "4\n",
        "\n",
        "1 2 3\n",
        "\n",
        "4 5 6\n",
        "\n",
        "10 11 12\n",
        "\n",
        "7 8 9\n",
        "\n",
        "Sample Output 1 : \n",
        "\n",
        "33\n",
        "\n",
        "[10, 11, 12]\n",
        "\n"
      ],
      "metadata": {
        "id": "IvAOu4HcFnp8"
      }
    },
    {
      "cell_type": "code",
      "source": [
        "# take input from user\n",
        "\n",
        "number_1 = int(input('Please enter the number of lists : '))\n",
        "\n",
        "list_1 = []\n",
        "\n",
        "for i in range(number_1) :\n",
        "    string_1 = input('Please enter a number : ')\n",
        "    temp_list = [int(i) for i in string_1.split()]\n",
        "    list_1.append(temp_list)\n",
        "\n",
        "# set loop conditions to find out the highest sum and its respective list\n",
        "\n",
        "maxm_sum = 0\n",
        "maxm_list = None\n",
        "\n",
        "for i in list_1 :\n",
        "    if sum(i) > maxm_sum :\n",
        "        maxm_sum = sum(i)\n",
        "        maxm_list = i\n",
        "\n",
        "print(maxm_sum)\n",
        "print(maxm_list)\n",
        "\n",
        "# end"
      ],
      "metadata": {
        "id": "rJjflC9iD7ss",
        "colab": {
          "base_uri": "https://localhost:8080/"
        },
        "outputId": "0360995b-0f3c-4264-f0d4-2e34d8f9e01a"
      },
      "execution_count": null,
      "outputs": [
        {
          "output_type": "stream",
          "name": "stdout",
          "text": [
            "Please enter the number of lists : 4\n",
            "Please enter a number : 1 2 3\n",
            "Please enter a number : 4 5 6\n",
            "Please enter a number : 10 11 12\n",
            "Please enter a number : 7 8 9\n",
            "33\n",
            "[10, 11, 12]\n"
          ]
        }
      ]
    },
    {
      "cell_type": "markdown",
      "source": [
        "# **List - 3**\n",
        "Write a python program that prints a list which contains cross multiplication between two given lists.\n",
        "\n",
        "\n",
        "---\n",
        "\n",
        "\n",
        "Sample Input 1 : \n",
        "\n",
        "2 3 6\n",
        "\n",
        "3 4 5\n",
        "\n",
        "Sample Output 1 : \n",
        "\n",
        "[6, 8, 10, 9, 12, 15, 18, 24, 30]\n",
        "\n"
      ],
      "metadata": {
        "id": "_DxHpVUXFtju"
      }
    },
    {
      "cell_type": "code",
      "source": [
        "# take input from user\n",
        "\n",
        "string_1 = input('Please enter a list : ')\n",
        "string_2 = input('Please enter another list : ')\n",
        "\n",
        "list_1 = string_1.split()\n",
        "list_2 = string_2.split()\n",
        "\n",
        "list_3 = []\n",
        "\n",
        "# set loop conditions to calculate cross multiplication between the two given lists\n",
        "\n",
        "for i in list_1 :\n",
        "    for j in list_2 :\n",
        "        list_3.append(int(i)*int(j))\n",
        "\n",
        "print(list_3)\n",
        "\n",
        "# end"
      ],
      "metadata": {
        "id": "W7MCNUUuD7pV",
        "colab": {
          "base_uri": "https://localhost:8080/"
        },
        "outputId": "aa2f44d6-0dcf-4e67-bd86-5b3c9221a332"
      },
      "execution_count": null,
      "outputs": [
        {
          "output_type": "stream",
          "name": "stdout",
          "text": [
            "Please enter a list : 2 3 6\n",
            "Please enter another list : 3 4 5\n",
            "[6, 8, 10, 9, 12, 15, 18, 24, 30]\n"
          ]
        }
      ]
    },
    {
      "cell_type": "markdown",
      "source": [
        "# **List - 4**\n",
        "Let there are N numbers in a list and that list is said to be a UB Jumper if the\n",
        "absolute values of the difference between the successive elements take on all the values 1 through N − 1. For example, 2 1 4 6 10 is a UB Jumper because the absolute differences between them are 1 3 2 4 which is all numbers from 1 to (5 - 1) or 4. **Write a python program that takes a number sequence as input and prints whether it is a UB Jumper or Not UB Jumper. Input will stop after getting\n",
        "“STOP” as input.** (Number order or absolute difference order doesn’t follow any\n",
        "sequence.)\n",
        "\n",
        "\n",
        "---\n",
        "\n",
        "\n",
        "Sample Input 1 : \n",
        "\n",
        "1 4 2 3\n",
        "\n",
        "2 1 4 6 10\n",
        "\n",
        "1 4 2 -1 6\n",
        "\n",
        "STOP\n",
        "\n",
        "Sample Output 1 : \n",
        "\n",
        "UB Jumper\n",
        "\n",
        "UB Jumper\n",
        "\n",
        "Not UB Jumper\n",
        "\n"
      ],
      "metadata": {
        "id": "GlPpku-ZF1GO"
      }
    },
    {
      "cell_type": "code",
      "source": [
        "# take input from user\n",
        "\n",
        "while True :\n",
        "    string_1 = input('Please enter a number : ')\n",
        "\n",
        "    if string_1.upper() != 'STOP' :\n",
        "        \n",
        "        # convert string to list\n",
        "\n",
        "        temp_list = string_1.split()\n",
        "        list_1 = [int(i) for i in temp_list]\n",
        "\n",
        "        # set loop conditions to check the absolute differences of the numbers\n",
        "\n",
        "        check = True\n",
        "\n",
        "        for i in range(len(list_1)-1) :\n",
        "            if -len(list_1) < list_1[i] - list_1[i+1] < len(list_1) :\n",
        "                pass\n",
        "            else :\n",
        "                check = False\n",
        "                break\n",
        "\n",
        "        if check :\n",
        "            print('UB Jumper')\n",
        "        else :\n",
        "            print('Not UB Jumper')\n",
        "    else :\n",
        "        break\n",
        "\n",
        "# end"
      ],
      "metadata": {
        "id": "U8leIi6YD7lg",
        "colab": {
          "base_uri": "https://localhost:8080/"
        },
        "outputId": "b9f62a33-cc5c-4e56-c341-bab227b647b4"
      },
      "execution_count": null,
      "outputs": [
        {
          "name": "stdout",
          "output_type": "stream",
          "text": [
            "Please enter a number : 1 4 2 3\n",
            "UB Jumper\n",
            "Please enter a number : 2 1 4 6 10\n",
            "UB Jumper\n",
            "Please enter a number : 1 4 2 -1 6\n",
            "Not UB Jumper\n",
            "Please enter a number : STOP\n"
          ]
        }
      ]
    },
    {
      "cell_type": "markdown",
      "source": [
        "# **List - 5**\n",
        "You are given a string that contains alphanumeric characters only. Your task is to sort the string in the following manner:\n",
        "\n",
        "a. All sorted lowercase letters are ahead of uppercase letters.\n",
        "\n",
        "b. All sorted uppercase letters are ahead ofdigits.\n",
        "\n",
        "c. All sorted odd digits are ahead of sorted even digits.\n",
        "\n",
        "\n",
        "---\n",
        "\n",
        "\n",
        "Sample Input 1 : \n",
        "\n",
        "Bracu1234\n",
        "\n",
        "Sample Output 1 : \n",
        "\n",
        "acruB1324\n",
        "\n"
      ],
      "metadata": {
        "id": "WjRamh_8GZKD"
      }
    },
    {
      "cell_type": "code",
      "source": [
        "# take input from user\n",
        "\n",
        "string_1 = input('Please enter a string : ')\n",
        "\n",
        "lower_letters = ''\n",
        "upper_letters = ''\n",
        "odd_digits = ''\n",
        "even_digits = ''\n",
        "\n",
        "# set loop conditions to check for uppercase, lowercase letters and even, odd digits\n",
        "\n",
        "for i in string_1 :\n",
        "    if 'a' <= i <= 'z' :\n",
        "        lower_letters += i\n",
        "    elif 'A' <= i <= 'Z' :\n",
        "        upper_letters += i\n",
        "    elif i in '13579' :\n",
        "        odd_digits += i\n",
        "    elif i in '02468' :\n",
        "        even_digits += i\n",
        "\n",
        "# sort the strings\n",
        "\n",
        "lower_letters = sorted(lower_letters)\n",
        "upper_letters = sorted(upper_letters)\n",
        "odd_digits = sorted(odd_digits)\n",
        "even_digits = sorted(even_digits)\n",
        "\n",
        "for i in lower_letters + upper_letters + odd_digits + even_digits :\n",
        "    print(i, end='')\n",
        "\n",
        "# end"
      ],
      "metadata": {
        "id": "rrPNDEZTD7iM",
        "colab": {
          "base_uri": "https://localhost:8080/"
        },
        "outputId": "133552cc-499e-4848-ecbf-5073ea027ed2"
      },
      "execution_count": null,
      "outputs": [
        {
          "output_type": "stream",
          "name": "stdout",
          "text": [
            "Please enter a string : Bracu1234\n",
            "acruB1324"
          ]
        }
      ]
    },
    {
      "cell_type": "markdown",
      "source": [
        "# **List - 6**\n",
        "BRACU has n students who are regular competitive programmers. According\n",
        "to the ACM ICPC rules, each person can participate in the regional championship\n",
        "at most 5 times.\n",
        "\n",
        "The head of the BRACU ACM Chapter is recently gathering teams to participate\n",
        "in this championship. Each team must consist of exactly three people, at that, any\n",
        "person cannot be a member of two or more teams. What maximum number of teams\n",
        "can the head make if he wants each team to participate in the world championship\n",
        "with the same members at least k times?\n",
        "\n",
        "The first line of input contains two integers, n and k. The next line contains n\n",
        "integers: y1,y2, ...,yn (0≤ yi≤ 5), where yi shows the number of times the i-thperson\n",
        "participated in the ACM ICPC Regional.\n",
        "\n",
        "**Write a python program that prints how many teams can be formed according to\n",
        "the above problem statement.**\n",
        "\n",
        "\n",
        "---\n",
        "\n",
        "\n",
        "Sample Input 1 : \n",
        "\n",
        "5 2\n",
        "\n",
        "0 4 5 1 0\n",
        "\n",
        "Sample Output 1 : \n",
        "\n",
        "1\n",
        "\n",
        "\n",
        "---\n",
        "\n",
        "\n",
        "Sample Input 2 : \n",
        "\n",
        "6 4\n",
        "\n",
        "0 1 2 3 4 5\n",
        "\n",
        "Sample Output 2 : \n",
        "\n",
        "0\n",
        "\n",
        "\n",
        "---\n",
        "\n",
        "\n",
        "Sample Input 3 : \n",
        "\n",
        "6 5\n",
        "\n",
        "0 0 0 0 0 0\n",
        "\n",
        "Sample Output 3 : \n",
        "\n",
        "2\n",
        " \n",
        " "
      ],
      "metadata": {
        "id": "cq73ALvBGre7"
      }
    },
    {
      "cell_type": "code",
      "source": [
        "# take input from user\n",
        "\n",
        "string_1 = input('Please enter number of contestants and number of championships : ')\n",
        "string_2 = input('Please enter the number of times contestants already participated : ')\n",
        "\n",
        "number_1 = int(string_1[0])\n",
        "number_2 = int(string_1[2])\n",
        "\n",
        "number_list = string_2.split()\n",
        "number_list = [int(i) for i in number_list]\n",
        "\n",
        "# set loop conditions to calculate how many teams can be formed\n",
        "\n",
        "count = 0\n",
        "\n",
        "for i in number_list :\n",
        "    if i + number_2 <= 5 :\n",
        "        count +=1\n",
        "\n",
        "print(count//3)\n",
        "\n",
        "# end"
      ],
      "metadata": {
        "id": "3LghdmTbD7b7",
        "colab": {
          "base_uri": "https://localhost:8080/"
        },
        "outputId": "8e98e9a5-2349-4604-b4e1-525c58bcbf62"
      },
      "execution_count": null,
      "outputs": [
        {
          "output_type": "stream",
          "name": "stdout",
          "text": [
            "Please enter number of contestants and number of championships: 6 5\n",
            "Please enter the number of times contestants already participated : 0 0 0 0 0 0\n",
            "2\n"
          ]
        }
      ]
    },
    {
      "cell_type": "markdown",
      "source": [
        "# **Dictionary and Tuple - 1**\n",
        "Write a Python program to combine two dictionaries into one by adding values for\n",
        "common keys. Input contains two comma separated dictionaries. Print the new\n",
        "dictionary and create a tuple which contains unique values in sorted order.\n",
        "\n",
        "\n",
        "---\n",
        "\n",
        "\n",
        "Sample Input 1 : \n",
        "\n",
        "a: 100, b: 100, c: 200, d: 300\n",
        "\n",
        "a: 300, b: 200, d: 400, e: 200\n",
        "\n",
        "Sample Output 1 : \n",
        "\n",
        "{'a': 400, 'b': 300, 'c': 200,'d': 700, 'e': 200}\n",
        "\n",
        "Values: (200, 300, 400, 700)\n",
        "\n"
      ],
      "metadata": {
        "id": "sCYWhGlHG8Qq"
      }
    },
    {
      "cell_type": "code",
      "source": [
        "# take input from user\n",
        "\n",
        "string_1 = input('Please enter a dictionary : ')\n",
        "string_2 = input('Please enter another dictionary : ')\n",
        "\n",
        "list_1 = string_1.split(', ')\n",
        "list_2 = string_2.split(', ')\n",
        "\n",
        "# set loop conditions to convert strings to dictionaries\n",
        "\n",
        "dict_1 = {}\n",
        "dict_2 = {}\n",
        "\n",
        "for i in list_1 :\n",
        "    temp =i.split(':')\n",
        "    dict_1[temp[0]] = int(temp[1])\n",
        "for i in list_2 :\n",
        "    temp =i.split(':')\n",
        "    dict_2[temp[0]] = int(temp[1])\n",
        "\n",
        "# combine two dictionaries into a new dictionary by adding values for common keys\n",
        "\n",
        "dict_3 = {}\n",
        "\n",
        "for i in dict_1 :\n",
        "    if i in dict_2 :\n",
        "        dict_3[i] = dict_1[i] + dict_2[i]\n",
        "    else :\n",
        "        dict_3[i] = dict_1[i]\n",
        "for i in dict_2 :\n",
        "    if i not in dict_3 :\n",
        "        dict_3[i] = dict_2[i]\n",
        "\n",
        "# create a tuple which contains unique values in sorted order\n",
        "\n",
        "unique_value = []\n",
        "\n",
        "for i in dict_3.values() :\n",
        "    if i not in unique_value :\n",
        "        unique_value.append(i)\n",
        "\n",
        "unique_value = tuple(sorted(unique_value))\n",
        "\n",
        "print(dict_3)\n",
        "print('Values:', unique_value)\n",
        "\n",
        "# end"
      ],
      "metadata": {
        "id": "GrSMlwHxD7Qy",
        "colab": {
          "base_uri": "https://localhost:8080/"
        },
        "outputId": "5b6fccf0-1fb6-4f32-8ee2-b1e47020fb7a"
      },
      "execution_count": null,
      "outputs": [
        {
          "output_type": "stream",
          "name": "stdout",
          "text": [
            "Please enter a dictionary : a: 100, b: 100, c: 200, d: 300\n",
            "Please enter another dictionary : a: 300, b: 200, d: 400, e: 200\n",
            "{'a': 400, 'b': 300, 'c': 200, 'd': 700, 'e': 200}\n",
            "Values : (200, 300, 400, 700)\n"
          ]
        }
      ]
    },
    {
      "cell_type": "markdown",
      "source": [
        "# **Dictionary and Tuple - 2**\n",
        "Write a python program which prints the frequency of the numbers that were\n",
        "given as input by the user. Stop taking input when you find the string “STOP”. Do not print the frequency of numbers that were not given as input. **Use a dictionary to solve the problem.**\n",
        "\n",
        "\n",
        "---\n",
        "\n",
        "\n",
        "Sample Input 1 : \n",
        "\n",
        "10\n",
        "\n",
        "20\n",
        "\n",
        "20\n",
        "\n",
        "30\n",
        "\n",
        "10\n",
        "\n",
        "50\n",
        "\n",
        "90\n",
        "\n",
        "STOP\n",
        "\n",
        "Sample Output 1 : \n",
        "\n",
        "10 - 2 times\n",
        "\n",
        "20 - 2 times\n",
        "\n",
        "30 - 1 times\n",
        "\n",
        "50 - 1 times\n",
        "\n",
        "90 - 1 times\n",
        "\n"
      ],
      "metadata": {
        "id": "PGuOZPbBHFIb"
      }
    },
    {
      "cell_type": "code",
      "source": [
        "# take input from user\n",
        "\n",
        "dict_1 = {}\n",
        "\n",
        "while True :\n",
        "    string_1 = input('Please enter a number : ')\n",
        "    if string_1.upper() != 'STOP' :\n",
        "        if string_1 not in dict_1 :\n",
        "            dict_1[string_1] = 1\n",
        "        else :\n",
        "            dict_1[string_1] = dict_1[string_1] + 1\n",
        "    else :\n",
        "        break\n",
        "\n",
        "# print output according to question\n",
        "\n",
        "for i in dict_1 :\n",
        "    print(f'{i} - {dict_1[i]} times')\n",
        "        \n",
        "\n",
        "# end"
      ],
      "metadata": {
        "id": "qJ7g-_naD7C_",
        "colab": {
          "base_uri": "https://localhost:8080/"
        },
        "outputId": "7a9edc3b-084e-4f9d-daa8-74c0eebe2b31"
      },
      "execution_count": null,
      "outputs": [
        {
          "output_type": "stream",
          "name": "stdout",
          "text": [
            "Please enter a number : 10\n",
            "Please enter a number : 20\n",
            "Please enter a number : 20\n",
            "Please enter a number : 30\n",
            "Please enter a number : 10\n",
            "Please enter a number : 50\n",
            "Please enter a number : 90\n",
            "Please enter a number : STOP\n",
            "10 - 2 times\n",
            "20 - 2 times\n",
            "30 - 1 times\n",
            "50 - 1 times\n",
            "90 - 1 times\n"
          ]
        }
      ]
    },
    {
      "cell_type": "markdown",
      "source": [
        "# **Dictionary and Tuple - 3**\n",
        "Write python code to invert a dictionary. It should print a dictionary where the keys are values from the input dictionary and the values are lists of keys from the input dictionary having the same value. **Make sure the program handles multiple same values.**\n",
        "\n",
        "\n",
        "---\n",
        "\n",
        "\n",
        "Sample Input 1 : \n",
        "\n",
        "key1 : value1, key2 : value2, key3 : value1\n",
        "\n",
        "Sample Output 1 : \n",
        "\n",
        "{ \"value1\" : [\"key1\", \"key3\"], \"value2\" : [\"key2\"] }\n",
        "\n"
      ],
      "metadata": {
        "id": "SG4h7Hg5HVSA"
      }
    },
    {
      "cell_type": "code",
      "source": [
        "# take input from user\n",
        "\n",
        "string_1 = input('Please enter a dictionary : ')\n",
        "\n",
        "list_1 = string_1.split(', ')\n",
        "dict_1 = {}\n",
        "\n",
        "# set loop conditions to convert string to dictionary\n",
        "\n",
        "for i in list_1 :\n",
        "    temp =i.split(' : ')\n",
        "    dict_1[temp[0]] = temp[1]\n",
        "\n",
        "# set loop conditions to invert the dictionary\n",
        "\n",
        "dict_2 = {}\n",
        "\n",
        "for i in dict_1 :\n",
        "    if dict_1[i] not in dict_2 :\n",
        "        dict_2[dict_1[i]] = [i]\n",
        "    else :\n",
        "        dict_2[dict_1[i]] += [i]\n",
        "        \n",
        "print(dict_2)\n",
        "\n",
        "# end"
      ],
      "metadata": {
        "id": "9SJP0WoiD4qS",
        "colab": {
          "base_uri": "https://localhost:8080/"
        },
        "outputId": "ca347e29-2be0-47ba-ac4e-3b5b3d32bde9"
      },
      "execution_count": null,
      "outputs": [
        {
          "output_type": "stream",
          "name": "stdout",
          "text": [
            "Please enter a dictionary : key1 : value1, key2 : value2, key3 : value1\n",
            "{'value1': ['key1', 'key3'], 'value2': ['key2']}\n"
          ]
        }
      ]
    },
    {
      "cell_type": "markdown",
      "source": [
        "# **Dictionary and Tuple - 4**\n",
        "Two words are anagrams if they contain all of the same letters, but in a different order. For example, “evil” and “live” are anagrams because each contains one “e”, one “i”, one “l”, and one “v”.\n",
        "\n",
        "Write a program that reads two strings from the user and determines whether or not they are anagrams. **Use a dictionary to solve the problem.**\n",
        "\n",
        "\n",
        "---\n",
        "\n",
        "\n",
        "Sample Input 1 : \n",
        "\n",
        "evil\n",
        "\n",
        "live\n",
        "\n",
        "Sample Output 1 : \n",
        "\n",
        "Those strings are anagrams.\n",
        "\n"
      ],
      "metadata": {
        "id": "5gq5oAUPHlg1"
      }
    },
    {
      "cell_type": "code",
      "source": [
        "# take input from user\n",
        "\n",
        "string_1 = input('Please enter a word : ')\n",
        "string_2 = input('Please enter another word : ')\n",
        "\n",
        "dict_1 = {}\n",
        "dict_2 = {}\n",
        "\n",
        "# set loop conditions to convert strings to dictionaries\n",
        "\n",
        "for i in string_1.lower() :\n",
        "    if i not in dict_1 :\n",
        "        dict_1[i] = 1\n",
        "    else :\n",
        "        dict_1[i] += 1\n",
        "for i in string_2.lower() :\n",
        "    if i not in dict_2 :\n",
        "        dict_2[i] = 1\n",
        "    else :\n",
        "        dict_2[i] += 1\n",
        "\n",
        "# set conditions to check if strings are anagrams\n",
        "\n",
        "result = True\n",
        "\n",
        "if len(string_1) != len(string_2) :\n",
        "    result = False\n",
        "elif dict_1 != dict_2 :\n",
        "    result = False\n",
        "\n",
        "if result :\n",
        "    print('Those strings are anagrams.')\n",
        "else :\n",
        "    print('Those strings are not anagrams.')\n",
        "\n",
        "# end"
      ],
      "metadata": {
        "id": "prf301kmHkbv",
        "colab": {
          "base_uri": "https://localhost:8080/"
        },
        "outputId": "93b3c293-ffd4-44b0-99f4-256a2bb37a3d"
      },
      "execution_count": null,
      "outputs": [
        {
          "output_type": "stream",
          "name": "stdout",
          "text": [
            "Please enter a word : evil\n",
            "Please enter another word : live\n",
            "Those strings are anagrams.\n"
          ]
        }
      ]
    },
    {
      "cell_type": "markdown",
      "source": [
        "# **Dictionary and Tuple - 5**\n",
        "On some basic cell phones, text messages can be sent using the numeric keypad.\n",
        "Because each key has multiple letters associated with it, multiple key presses are needed for most letters. Pressing the number once generates the first character listed for that key. Pressing the number 2, 3, 4 or 5 times generates the second, third, fourth or fifth character.\n",
        "\n",
        "Write a program that displays the key presses needed for a message entered by the user. Construct a dictionary that maps from each letter or symbol to the key presses needed to generate it. Then use the dictionary to create and display the presses needed for the user’s message.\n",
        "\n",
        "\n",
        "Key Symbols\n",
        "\n",
        "1 - .,?!:\n",
        "\n",
        "2 - ABC\n",
        "\n",
        "3 - DEF\n",
        "\n",
        "4 - GHI\n",
        "\n",
        "5 - JKL\n",
        "\n",
        "6 - MNO\n",
        "\n",
        "7 - PQRS\n",
        "\n",
        "8 - TUV\n",
        "\n",
        "9 - WXYZ\n",
        "\n",
        "0 - Space\n",
        "\n",
        "\n",
        "---\n",
        "\n",
        "\n",
        "Sample Input 1 : \n",
        "\n",
        "Hello, World!\n",
        "\n",
        "Sample Output 1 : \n",
        "\n",
        "4433555555666110966677755531111\n",
        "\n"
      ],
      "metadata": {
        "id": "EJUilJbcH0Uv"
      }
    },
    {
      "cell_type": "code",
      "source": [
        "# save all key value pair in a dictionary\n",
        "\n",
        "dict_1 = {'1':'.,?!','2':'ABC','3':'DEF','4':'GHI','5':'JKL','6':'MNO','7':'PQRS','8':'TUV','9':'WXYZ','0':' '}\n",
        "\n",
        "# take input from user\n",
        "\n",
        "string_1 = input('Please enter a word : ')\n",
        "key = ''\n",
        "\n",
        "# set loop conditions \n",
        "\n",
        "for i in string_1 :\n",
        "    for j in dict_1 :\n",
        "        if i.upper() in dict_1[j] :\n",
        "            index = dict_1[j].index(i.upper()) + 1\n",
        "            key += j * index\n",
        "        \n",
        "print(key)\n",
        "\n",
        "# end"
      ],
      "metadata": {
        "id": "zwbyQSbaHk5C",
        "colab": {
          "base_uri": "https://localhost:8080/"
        },
        "outputId": "be9a12a1-bf15-4092-b969-9eefbc7814f3"
      },
      "execution_count": null,
      "outputs": [
        {
          "output_type": "stream",
          "name": "stdout",
          "text": [
            "Please enter a word : Hello, World!\n",
            "4433555555666110966677755531111\n"
          ]
        }
      ]
    }
  ]
}